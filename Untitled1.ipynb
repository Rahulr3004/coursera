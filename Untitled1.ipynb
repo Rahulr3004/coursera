{
 "cells": [
  {
   "cell_type": "markdown",
   "id": "c61b6acf",
   "metadata": {},
   "source": [
    "# My Jupyter Notebook on IBM Watson Studio"
   ]
  },
  {
   "cell_type": "markdown",
   "id": "2211b01b",
   "metadata": {},
   "source": [
    "**Rahul R**\n"
   ]
  },
  {
   "cell_type": "markdown",
   "id": "7b12f2d3",
   "metadata": {},
   "source": [
    "Student\n"
   ]
  },
  {
   "cell_type": "markdown",
   "id": "419b6535",
   "metadata": {},
   "source": [
    "*i am interested in data science I love to gain insights from data*\n"
   ]
  },
  {
   "cell_type": "markdown",
   "id": "f2b57ca4",
   "metadata": {},
   "source": [
    "**The following code tests the Gauss formula**\n"
   ]
  },
  {
   "cell_type": "markdown",
   "id": "3bc130e5",
   "metadata": {},
   "source": [
    "def guass(n):\n",
    "    return (n*(n+1))/2\n",
    "\n",
    "guass(100) == sum(range(101))"
   ]
  },
  {
   "cell_type": "markdown",
   "id": "56c9fc50",
   "metadata": {},
   "source": [
    "- one \n",
    "- two\n",
    "- three"
   ]
  },
  {
   "cell_type": "markdown",
   "id": "31ee3ff4",
   "metadata": {},
   "source": [
    "www.ibm.com"
   ]
  },
  {
   "cell_type": "markdown",
   "id": "f7bc1a45",
   "metadata": {},
   "source": [
    "|rahul|rajwsh|suzz|\n",
    "|----|----|-----|\n",
    "|01|02|03|"
   ]
  },
  {
   "cell_type": "code",
   "execution_count": null,
   "id": "f2d1336b",
   "metadata": {},
   "outputs": [],
   "source": []
  }
 ],
 "metadata": {
  "kernelspec": {
   "display_name": "Python 3 (ipykernel)",
   "language": "python",
   "name": "python3"
  },
  "language_info": {
   "codemirror_mode": {
    "name": "ipython",
    "version": 3
   },
   "file_extension": ".py",
   "mimetype": "text/x-python",
   "name": "python",
   "nbconvert_exporter": "python",
   "pygments_lexer": "ipython3",
   "version": "3.9.12"
  }
 },
 "nbformat": 4,
 "nbformat_minor": 5
}
